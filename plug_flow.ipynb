{
 "cells": [
  {
   "cell_type": "code",
   "execution_count": 1,
   "metadata": {},
   "outputs": [],
   "source": [
    "import numpy as np\n",
    "from scipy.integrate import odeint\n",
    "import matplotlib.pyplot as plt"
   ]
  },
  {
   "cell_type": "code",
   "execution_count": 2,
   "metadata": {},
   "outputs": [],
   "source": [
    "def reaction(ca, k):\n",
    "  r = k * ca\n",
    "  return r"
   ]
  },
  {
   "cell_type": "code",
   "execution_count": 3,
   "metadata": {},
   "outputs": [],
   "source": [
    "def plug_flow(ca, x, k, ni, u):\n",
    "  r = reaction(ca, k)\n",
    "  dcadx = ni * r / u\n",
    "  return dcadx"
   ]
  },
  {
   "cell_type": "code",
   "execution_count": 4,
   "metadata": {},
   "outputs": [],
   "source": [
    "# kinetic constant\n",
    "k = 0.1\n",
    "# reactor length\n",
    "L = 10\n",
    "x = np.linspace(0, L, 101)\n",
    "ca0 = 0.6\n",
    "ni = -1\n",
    "u = 0.5"
   ]
  },
  {
   "cell_type": "code",
   "execution_count": 5,
   "metadata": {},
   "outputs": [],
   "source": [
    "sol = odeint(plug_flow, ca0, x, args=(k, ni, u))"
   ]
  },
  {
   "cell_type": "code",
   "execution_count": 6,
   "metadata": {},
   "outputs": [
    {
     "data": {
      "text/plain": [
       "<function matplotlib.pyplot.plot(*args, scalex=True, scaley=True, data=None, **kwargs)>"
      ]
     },
     "execution_count": 6,
     "metadata": {},
     "output_type": "execute_result"
    },
    {
     "data": {
      "image/png": "[encoded data removed]",
      "text/plain": [
       "<Figure size 640x480 with 1 Axes>"
      ]
     },
     "metadata": {},
     "output_type": "display_data"
    }
   ],
   "source": [
    "plt.plot(x, sol)\n",
    "plt.plot(x[::4], [ca0 * np.exp(-x*k/u) for x in x[::4]],'o')\n",
    "plt.xlabel('x')\n",
    "plt.ylabel('')\n",
    "plt.legend(['numerical', 'analytical'])\n",
    "plt.plot"
   ]
  },
  {
   "cell_type": "code",
   "execution_count": 9,
   "metadata": {},
   "outputs": [
    {
     "ename": "TypeError",
     "evalue": "reaction() missing 1 required positional argument: 'n'",
     "output_type": "error",
     "traceback": [
      "\u001b[1;31m---------------------------------------------------------------------------\u001b[0m",
      "\u001b[1;31mTypeError\u001b[0m                                 Traceback (most recent call last)",
      "Cell \u001b[1;32mIn[9], line 19\u001b[0m\n\u001b[0;32m     17\u001b[0m ni \u001b[39m=\u001b[39m \u001b[39m-\u001b[39m\u001b[39m2\u001b[39m\n\u001b[0;32m     18\u001b[0m u \u001b[39m=\u001b[39m \u001b[39m0.5\u001b[39m\n\u001b[1;32m---> 19\u001b[0m sol \u001b[39m=\u001b[39m odeint(plug_flow, ca0, x, args\u001b[39m=\u001b[39;49m(k, ni, u))\n\u001b[0;32m     21\u001b[0m plt\u001b[39m.\u001b[39mplot(x, sol)\n\u001b[0;32m     22\u001b[0m plt\u001b[39m.\u001b[39mxlabel(\u001b[39m'\u001b[39m\u001b[39mx\u001b[39m\u001b[39m'\u001b[39m)\n",
      "File \u001b[1;32mc:\\Users\\Szymon\\AppData\\Local\\Programs\\Python\\Python311\\Lib\\site-packages\\scipy\\integrate\\_odepack_py.py:242\u001b[0m, in \u001b[0;36modeint\u001b[1;34m(func, y0, t, args, Dfun, col_deriv, full_output, ml, mu, rtol, atol, tcrit, h0, hmax, hmin, ixpr, mxstep, mxhnil, mxordn, mxords, printmessg, tfirst)\u001b[0m\n\u001b[0;32m    240\u001b[0m t \u001b[39m=\u001b[39m copy(t)\n\u001b[0;32m    241\u001b[0m y0 \u001b[39m=\u001b[39m copy(y0)\n\u001b[1;32m--> 242\u001b[0m output \u001b[39m=\u001b[39m _odepack\u001b[39m.\u001b[39;49modeint(func, y0, t, args, Dfun, col_deriv, ml, mu,\n\u001b[0;32m    243\u001b[0m                          full_output, rtol, atol, tcrit, h0, hmax, hmin,\n\u001b[0;32m    244\u001b[0m                          ixpr, mxstep, mxhnil, mxordn, mxords,\n\u001b[0;32m    245\u001b[0m                          \u001b[39mint\u001b[39;49m(\u001b[39mbool\u001b[39;49m(tfirst)))\n\u001b[0;32m    246\u001b[0m \u001b[39mif\u001b[39;00m output[\u001b[39m-\u001b[39m\u001b[39m1\u001b[39m] \u001b[39m<\u001b[39m \u001b[39m0\u001b[39m:\n\u001b[0;32m    247\u001b[0m     warning_msg \u001b[39m=\u001b[39m _msgs[output[\u001b[39m-\u001b[39m\u001b[39m1\u001b[39m]] \u001b[39m+\u001b[39m \u001b[39m\"\u001b[39m\u001b[39m Run with full_output = 1 to get quantitative information.\u001b[39m\u001b[39m\"\u001b[39m\n",
      "Cell \u001b[1;32mIn[9], line 6\u001b[0m, in \u001b[0;36mplug_flow\u001b[1;34m(ca, x, k, ni, u)\u001b[0m\n\u001b[0;32m      5\u001b[0m \u001b[39mdef\u001b[39;00m \u001b[39mplug_flow\u001b[39m(ca, x, k, ni, u):\n\u001b[1;32m----> 6\u001b[0m   r \u001b[39m=\u001b[39m reaction(ca, k)\n\u001b[0;32m      7\u001b[0m   dcadx \u001b[39m=\u001b[39m ni \u001b[39m*\u001b[39m r \u001b[39m/\u001b[39m u\n\u001b[0;32m      8\u001b[0m   \u001b[39mreturn\u001b[39;00m dcadx\n",
      "\u001b[1;31mTypeError\u001b[0m: reaction() missing 1 required positional argument: 'n'"
     ]
    }
   ],
   "source": [
    "\n",
    "def reaction(ca, k, n):\n",
    "  r = k * ca ** n\n",
    "  return r\n",
    "\n",
    "def plug_flow(ca, x, k, ni, u):\n",
    "  r = reaction(ca, k)\n",
    "  dcadx = ni * r / u\n",
    "  return dcadx\n",
    "\n",
    "# kinetic constant\n",
    "k = 0.1\n",
    "# reactor length\n",
    "L = 10\n",
    "x = np.linspace(0, L, 101)\n",
    "# inlet A concentration\n",
    "ca0 = 0.6\n",
    "# reaction order\n",
    "n = 2\n",
    "\n",
    "# stoichiometric coefficient\n",
    "ni = -2\n",
    "\n",
    "# speed\n",
    "u = 0.5\n",
    "sol = odeint(plug_flow, ca0, x, args=(k, ni, u))\n",
    "\n",
    "plt.plot(x, sol)\n",
    "plt.xlabel('x')\n",
    "plt.ylabel('')\n",
    "plt.legend(['numerical'])\n",
    "plt.plot"
   ]
  },
  {
   "cell_type": "code",
   "execution_count": null,
   "metadata": {},
   "outputs": [],
   "source": []
  }
 ],
 "metadata": {
  "kernelspec": {
   "display_name": "Python 3",
   "language": "python",
   "name": "python3"
  },
  "language_info": {
   "codemirror_mode": {
    "name": "ipython",
    "version": 3
   },
   "file_extension": ".py",
   "mimetype": "text/x-python",
   "name": "python",
   "nbconvert_exporter": "python",
   "pygments_lexer": "ipython3",
   "version": "3.11.3"
  },
  "orig_nbformat": 4
 },
 "nbformat": 4,
 "nbformat_minor": 2
}

{
 "cells": [
  {
   "cell_type": "code",
   "execution_count": null,
   "metadata": {},
   "outputs": [],
   "source": [
    "import numpy as np\n",
    "from scipy.integrate import odeint\n",
    "import matplotlib.pyplot as plt"
   ]
  },
  {
   "cell_type": "code",
   "execution_count": null,
   "metadata": {},
   "outputs": [],
   "source": [
    "def reaction(ca, k):\n",
    "  r = k * ca\n",
    "  return r"
   ]
  },
  {
   "cell_type": "code",
   "execution_count": null,
   "metadata": {},
   "outputs": [],
   "source": [
    "def plug_flow(ca, x, k, ni, u):\n",
    "  r = reaction(ca, k)\n",
    "  dcadx = ni * r / u\n",
    "  return dcadx"
   ]
  },
  {
   "cell_type": "code",
   "execution_count": null,
   "metadata": {},
   "outputs": [],
   "source": [
    "# kinetic constant\n",
    "k = 0.1\n",
    "# reactor length\n",
    "L = 10\n",
    "x = np.linspace(0, L, 101)\n",
    "ca0 = 0.6\n",
    "ni = -1\n",
    "u = 0.5"
   ]
  },
  {
   "cell_type": "code",
   "execution_count": null,
   "metadata": {},
   "outputs": [],
   "source": [
    "sol = odeint(plug_flow, ca0, x, args=(k, ni, u))"
   ]
  },
  {
   "cell_type": "code",
   "execution_count": null,
   "metadata": {},
   "outputs": [],
   "source": [
    "plt.plot(x, sol)\n",
    "plt.plot(x[::4], [ca0 * np.exp(-x*k/u) for x in x[::4]],'o')\n",
    "plt.xlabel('x')\n",
    "plt.ylabel('')\n",
    "plt.legend(['numerical', 'analytical'])\n",
    "plt.plot"
   ]
  },
  {
   "cell_type": "code",
   "execution_count": null,
   "metadata": {},
   "outputs": [],
   "source": [
    "def reaction(ca, k):\n",
    "  r = k * ca\n",
    "  return r\n",
    "\n",
    "def plug_flow(ca, x, k, ni, u):\n",
    "  r = reaction(ca, k)\n",
    "  dcadx = ni * r / u\n",
    "  return dcadx\n",
    "\n",
    "# kinetic constant\n",
    "k = 0.1\n",
    "# reactor length\n",
    "L = 10\n",
    "x = np.linspace(0, L, 101)\n",
    "# inlet A concentration\n",
    "ca0 = 0.6\n",
    "ni = -1\n",
    "u = 0.5\n",
    "sol = odeint(plug_flow, ca0, x, args=(k, ni, u))\n",
    "\n",
    "plt.plot(x, sol)\n",
    "plt.plot(x[::4], [ca0 * np.exp(-x*k/u) for x in x[::4]],'o')\n",
    "plt.xlabel('x')\n",
    "plt.ylabel('$C_{a}$')\n",
    "plt.legend(['numerical', 'analytical'])\n",
    "plt.plot"
   ]
  }
 ],
 "metadata": {
  "language_info": {
   "name": "python"
  },
  "orig_nbformat": 4
 },
 "nbformat": 4,
 "nbformat_minor": 2
}
